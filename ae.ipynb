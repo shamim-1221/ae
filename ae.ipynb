{
 "cells": [
  {
   "cell_type": "code",
   "execution_count": null,
   "id": "7cacb228",
   "metadata": {},
   "outputs": [],
   "source": [
    "#Aim: Implement deep learning for the Prediction of the autoencoder from the test data (e.g., MNIST (data set)"
   ]
  },
  {
   "cell_type": "code",
   "execution_count": null,
   "id": "4fd6494f",
   "metadata": {},
   "outputs": [],
   "source": []
  },
  {
   "cell_type": "code",
   "execution_count": 1,
   "id": "82e665e3",
   "metadata": {},
   "outputs": [
    {
     "name": "stdout",
     "output_type": "stream",
     "text": [
      "Epoch 1/10\n",
      "469/469 [==============================] - 20s 31ms/step - loss: 0.2012 - val_loss: 0.1395\n",
      "Epoch 2/10\n",
      "469/469 [==============================] - 11s 23ms/step - loss: 0.1299 - val_loss: 0.1213\n",
      "Epoch 3/10\n",
      "469/469 [==============================] - 13s 27ms/step - loss: 0.1182 - val_loss: 0.1120\n",
      "Epoch 4/10\n",
      "469/469 [==============================] - 11s 24ms/step - loss: 0.1106 - val_loss: 0.1074\n",
      "Epoch 5/10\n",
      "469/469 [==============================] - 11s 24ms/step - loss: 0.1056 - val_loss: 0.1024\n",
      "Epoch 6/10\n",
      "469/469 [==============================] - 11s 24ms/step - loss: 0.1018 - val_loss: 0.0991\n",
      "Epoch 7/10\n",
      "469/469 [==============================] - 11s 24ms/step - loss: 0.0990 - val_loss: 0.0966\n",
      "Epoch 8/10\n",
      "469/469 [==============================] - 11s 24ms/step - loss: 0.0969 - val_loss: 0.0949\n",
      "Epoch 9/10\n",
      "469/469 [==============================] - 11s 24ms/step - loss: 0.0952 - val_loss: 0.0940\n",
      "Epoch 10/10\n",
      "469/469 [==============================] - 10s 22ms/step - loss: 0.0937 - val_loss: 0.0919\n"
     ]
    },
    {
     "data": {
      "image/png": "[encoded data removed]",
      "text/plain": [
       "<Figure size 1440x288 with 20 Axes>"
      ]
     },
     "metadata": {
      "needs_background": "light"
     },
     "output_type": "display_data"
    }
   ],
   "source": [
    "import tensorflow as tf\n",
    "from tensorflow import keras\n",
    "import numpy as np\n",
    "import matplotlib.pyplot as plt\n",
    "\n",
    "# Load the MNIST dataset\n",
    "(x_train, _), (x_test, _) = keras.datasets.mnist.load_data()\n",
    "\n",
    "# Normalize the pixel values to be between 0 and 1\n",
    "x_train = x_train.astype(\"float32\") / 255.0\n",
    "x_test = x_test.astype(\"float32\") / 255.0\n",
    "\n",
    "# Define the encoder architecture\n",
    "encoder = keras.models.Sequential([\n",
    " keras.layers.Flatten(input_shape=[28, 28]),\n",
    " keras.layers.Dense(128, activation=\"relu\"),\n",
    " keras.layers.Dense(64, activation=\"relu\"),\n",
    " keras.layers.Dense(32, activation=\"relu\"),\n",
    " ])\n",
    "\n",
    "# Define the decoder architecture\n",
    "decoder = keras.models.Sequential([\n",
    " keras.layers.Dense(64, activation=\"relu\", input_shape=[32]),\n",
    " keras.layers.Dense(128, activation=\"relu\"),\n",
    " keras.layers.Dense(28 * 28, activation=\"sigmoid\"),\n",
    " keras.layers.Reshape([28, 28]),\n",
    " ])\n",
    "\n",
    "# Combine the encoder and decoder into an autoencoder model\n",
    "autoencoder = keras.models.Sequential([encoder, decoder])\n",
    "\n",
    "# Compile the autoencoder model\n",
    "autoencoder.compile(loss=\"binary_crossentropy\", optimizer=keras.optimizers. \n",
    "Adam(learning_rate=0.001))\n",
    "\n",
    "# Train the autoencoder model\n",
    "history = autoencoder.fit(x_train, x_train, epochs=10, batch_size=128,\n",
    "validation_data=(x_test, x_test))\n",
    "\n",
    "# Use the trained autoencoder to predict the reconstructed images for the test data\n",
    "decoded_imgs = autoencoder.predict(x_test)\n",
    "\n",
    "#Plot some of the original test images and their reconstructed counterparts\n",
    "n = 10 # number of images to display\n",
    "plt.figure(figsize=(20, 4))\n",
    "\n",
    "for i in range(n): \n",
    "    # Display original images\n",
    "    ax = plt.subplot(2, n, i + 1)\n",
    "    plt.imshow(x_test[i])\n",
    "    plt.gray()\n",
    "    ax.get_xaxis().set_visible(False)\n",
    "    ax.get_yaxis().set_visible(False)\n",
    "\n",
    "    # Display reconstructed images\n",
    "    ax = plt.subplot(2, n, i + n + 1)\n",
    "    plt.imshow(decoded_imgs[i])\n",
    "    plt.gray()\n",
    "    ax.get_xaxis().set_visible(False)\n",
    "    ax.get_yaxis().set_visible(False)\n",
    " \n",
    "plt.show()\n",
    "\n"
   ]
  },
  {
   "cell_type": "code",
   "execution_count": null,
   "id": "792e6bce",
   "metadata": {},
   "outputs": [],
   "source": []
  },
  {
   "cell_type": "code",
   "execution_count": null,
   "id": "2ebeb2ab",
   "metadata": {},
   "outputs": [],
   "source": []
  },
  {
   "cell_type": "code",
   "execution_count": null,
   "id": "a2dc5e87",
   "metadata": {},
   "outputs": [],
   "source": []
  },
  {
   "cell_type": "code",
   "execution_count": null,
   "id": "34e70963",
   "metadata": {},
   "outputs": [],
   "source": []
  }
 ],
 "metadata": {
  "kernelspec": {
   "display_name": "Python 3 (ipykernel)",
   "language": "python",
   "name": "python3"
  },
  "language_info": {
   "codemirror_mode": {
    "name": "ipython",
    "version": 3
   },
   "file_extension": ".py",
   "mimetype": "text/x-python",
   "name": "python",
   "nbconvert_exporter": "python",
   "pygments_lexer": "ipython3",
   "version": "3.9.7"
  },
  "varInspector": {
   "cols": {
    "lenName": 16,
    "lenType": 16,
    "lenVar": 40
   },
   "kernels_config": {
    "python": {
     "delete_cmd_postfix": "",
     "delete_cmd_prefix": "del ",
     "library": "var_list.py",
     "varRefreshCmd": "print(var_dic_list())"
    },
    "r": {
     "delete_cmd_postfix": ") ",
     "delete_cmd_prefix": "rm(",
     "library": "var_list.r",
     "varRefreshCmd": "cat(var_dic_list()) "
    }
   },
   "types_to_exclude": [
    "module",
    "function",
    "builtin_function_or_method",
    "instance",
    "_Feature"
   ],
   "window_display": false
  }
 },
 "nbformat": 4,
 "nbformat_minor": 5
}
